{
 "cells": [
  {
   "cell_type": "markdown",
   "metadata": {},
   "source": [
    "# Exploratory analysis of the bike sharing services in San Francisco Bay Area"
   ]
  },
  {
   "cell_type": "markdown",
   "metadata": {},
   "source": [
    "There are four different types of .csv files in this data set, which are station.csv, status.csv, trip.csv, and weather.csv. "
   ]
  },
  {
   "cell_type": "code",
   "execution_count": 2,
   "metadata": {
    "collapsed": true
   },
   "outputs": [],
   "source": [
    "# load packages\n",
    "import pandas as pd\n",
    "import numpy as np"
   ]
  },
  {
   "cell_type": "code",
   "execution_count": 5,
   "metadata": {
    "collapsed": false
   },
   "outputs": [],
   "source": [
    "# read each file into a panda data frame and store them into a dictionary\n",
    "df_station = pd.read_csv(\"./data/station.csv\", parse_dates=[\"installation_date\"])\n"
   ]
  },
  {
   "cell_type": "code",
   "execution_count": 6,
   "metadata": {
    "collapsed": false
   },
   "outputs": [
    {
     "data": {
      "text/html": [
       "<div>\n",
       "<table border=\"1\" class=\"dataframe\">\n",
       "  <thead>\n",
       "    <tr style=\"text-align: right;\">\n",
       "      <th></th>\n",
       "      <th>id</th>\n",
       "      <th>name</th>\n",
       "      <th>lat</th>\n",
       "      <th>long</th>\n",
       "      <th>dock_count</th>\n",
       "      <th>city</th>\n",
       "      <th>installation_date</th>\n",
       "    </tr>\n",
       "  </thead>\n",
       "  <tbody>\n",
       "    <tr>\n",
       "      <th>0</th>\n",
       "      <td>2</td>\n",
       "      <td>San Jose Diridon Caltrain Station</td>\n",
       "      <td>37.329732</td>\n",
       "      <td>-121.901782</td>\n",
       "      <td>27</td>\n",
       "      <td>San Jose</td>\n",
       "      <td>2013-08-06</td>\n",
       "    </tr>\n",
       "    <tr>\n",
       "      <th>1</th>\n",
       "      <td>3</td>\n",
       "      <td>San Jose Civic Center</td>\n",
       "      <td>37.330698</td>\n",
       "      <td>-121.888979</td>\n",
       "      <td>15</td>\n",
       "      <td>San Jose</td>\n",
       "      <td>2013-08-05</td>\n",
       "    </tr>\n",
       "    <tr>\n",
       "      <th>2</th>\n",
       "      <td>4</td>\n",
       "      <td>Santa Clara at Almaden</td>\n",
       "      <td>37.333988</td>\n",
       "      <td>-121.894902</td>\n",
       "      <td>11</td>\n",
       "      <td>San Jose</td>\n",
       "      <td>2013-08-06</td>\n",
       "    </tr>\n",
       "    <tr>\n",
       "      <th>3</th>\n",
       "      <td>5</td>\n",
       "      <td>Adobe on Almaden</td>\n",
       "      <td>37.331415</td>\n",
       "      <td>-121.893200</td>\n",
       "      <td>19</td>\n",
       "      <td>San Jose</td>\n",
       "      <td>2013-08-05</td>\n",
       "    </tr>\n",
       "    <tr>\n",
       "      <th>4</th>\n",
       "      <td>6</td>\n",
       "      <td>San Pedro Square</td>\n",
       "      <td>37.336721</td>\n",
       "      <td>-121.894074</td>\n",
       "      <td>15</td>\n",
       "      <td>San Jose</td>\n",
       "      <td>2013-08-07</td>\n",
       "    </tr>\n",
       "  </tbody>\n",
       "</table>\n",
       "</div>"
      ],
      "text/plain": [
       "   id                               name        lat        long  dock_count  \\\n",
       "0   2  San Jose Diridon Caltrain Station  37.329732 -121.901782          27   \n",
       "1   3              San Jose Civic Center  37.330698 -121.888979          15   \n",
       "2   4             Santa Clara at Almaden  37.333988 -121.894902          11   \n",
       "3   5                   Adobe on Almaden  37.331415 -121.893200          19   \n",
       "4   6                   San Pedro Square  37.336721 -121.894074          15   \n",
       "\n",
       "       city installation_date  \n",
       "0  San Jose        2013-08-06  \n",
       "1  San Jose        2013-08-05  \n",
       "2  San Jose        2013-08-06  \n",
       "3  San Jose        2013-08-05  \n",
       "4  San Jose        2013-08-07  "
      ]
     },
     "execution_count": 6,
     "metadata": {},
     "output_type": "execute_result"
    }
   ],
   "source": [
    "df_station.head()\n"
   ]
  }
 ],
 "metadata": {
  "kernelspec": {
   "display_name": "Python 2",
   "language": "python",
   "name": "python2"
  },
  "language_info": {
   "codemirror_mode": {
    "name": "ipython",
    "version": 2
   },
   "file_extension": ".py",
   "mimetype": "text/x-python",
   "name": "python",
   "nbconvert_exporter": "python",
   "pygments_lexer": "ipython2",
   "version": "2.7.3"
  }
 },
 "nbformat": 4,
 "nbformat_minor": 0
}
