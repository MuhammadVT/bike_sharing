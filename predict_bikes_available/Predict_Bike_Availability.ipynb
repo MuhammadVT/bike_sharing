{
 "cells": [
  {
   "cell_type": "markdown",
   "metadata": {},
   "source": [
    "# Predict Bike Availability using Tree-Based Models"
   ]
  },
  {
   "cell_type": "markdown",
   "metadata": {},
   "source": [
    "In this report we predict bike availability for future (with horizon time of 15 minutes) using tree-based models."
   ]
  },
  {
   "cell_type": "code",
   "execution_count": 1,
   "metadata": {
    "collapsed": true
   },
   "outputs": [],
   "source": [
    "# load packages\n",
    "import pandas as pd\n",
    "import numpy as np\n",
    "import datetime as dt\n",
    "import matplotlib.pyplot as plt\n",
    "from IPython.display import display\n",
    "\n",
    "# load custom modules\n",
    "import plotting_tools as vs"
   ]
  },
  {
   "cell_type": "code",
   "execution_count": 2,
   "metadata": {
    "collapsed": true
   },
   "outputs": [],
   "source": [
    "# show the figures within the notebook\n",
    "%matplotlib inline\n",
    "\n",
    "# Select ggplot as style\n",
    "plt.style.use(\"ggplot\")"
   ]
  },
  {
   "cell_type": "markdown",
   "metadata": {},
   "source": [
    "## Prepare the Data"
   ]
  },
  {
   "cell_type": "code",
   "execution_count": 3,
   "metadata": {},
   "outputs": [
    {
     "data": {
      "text/html": [
       "<div>\n",
       "<style>\n",
       "    .dataframe thead tr:only-child th {\n",
       "        text-align: right;\n",
       "    }\n",
       "\n",
       "    .dataframe thead th {\n",
       "        text-align: left;\n",
       "    }\n",
       "\n",
       "    .dataframe tbody tr th {\n",
       "        vertical-align: top;\n",
       "    }\n",
       "</style>\n",
       "<table border=\"1\" class=\"dataframe\">\n",
       "  <thead>\n",
       "    <tr style=\"text-align: right;\">\n",
       "      <th></th>\n",
       "      <th>Unnamed: 0</th>\n",
       "      <th>station_id</th>\n",
       "      <th>new_id</th>\n",
       "      <th>time_of_day</th>\n",
       "      <th>day_of_week</th>\n",
       "      <th>month_of_year</th>\n",
       "      <th>mean_temperature_f</th>\n",
       "      <th>mean_humidity</th>\n",
       "      <th>mean_visibility_miles</th>\n",
       "      <th>mean_wind_speed_mph</th>\n",
       "      <th>precipitation_inches</th>\n",
       "      <th>events</th>\n",
       "      <th>bikes_available</th>\n",
       "      <th>bikes_available_future</th>\n",
       "    </tr>\n",
       "  </thead>\n",
       "  <tbody>\n",
       "    <tr>\n",
       "      <th>0</th>\n",
       "      <td>0</td>\n",
       "      <td>67</td>\n",
       "      <td>56</td>\n",
       "      <td>1215</td>\n",
       "      <td>3</td>\n",
       "      <td>8</td>\n",
       "      <td>68.0</td>\n",
       "      <td>75.0</td>\n",
       "      <td>10.0</td>\n",
       "      <td>11.0</td>\n",
       "      <td>0.0</td>\n",
       "      <td>No-Event</td>\n",
       "      <td>1</td>\n",
       "      <td>0.0</td>\n",
       "    </tr>\n",
       "    <tr>\n",
       "      <th>1</th>\n",
       "      <td>1</td>\n",
       "      <td>67</td>\n",
       "      <td>56</td>\n",
       "      <td>1230</td>\n",
       "      <td>3</td>\n",
       "      <td>8</td>\n",
       "      <td>68.0</td>\n",
       "      <td>75.0</td>\n",
       "      <td>10.0</td>\n",
       "      <td>11.0</td>\n",
       "      <td>0.0</td>\n",
       "      <td>No-Event</td>\n",
       "      <td>0</td>\n",
       "      <td>1.0</td>\n",
       "    </tr>\n",
       "    <tr>\n",
       "      <th>2</th>\n",
       "      <td>2</td>\n",
       "      <td>67</td>\n",
       "      <td>56</td>\n",
       "      <td>1245</td>\n",
       "      <td>3</td>\n",
       "      <td>8</td>\n",
       "      <td>68.0</td>\n",
       "      <td>75.0</td>\n",
       "      <td>10.0</td>\n",
       "      <td>11.0</td>\n",
       "      <td>0.0</td>\n",
       "      <td>No-Event</td>\n",
       "      <td>1</td>\n",
       "      <td>2.0</td>\n",
       "    </tr>\n",
       "    <tr>\n",
       "      <th>3</th>\n",
       "      <td>3</td>\n",
       "      <td>67</td>\n",
       "      <td>56</td>\n",
       "      <td>1300</td>\n",
       "      <td>3</td>\n",
       "      <td>8</td>\n",
       "      <td>68.0</td>\n",
       "      <td>75.0</td>\n",
       "      <td>10.0</td>\n",
       "      <td>11.0</td>\n",
       "      <td>0.0</td>\n",
       "      <td>No-Event</td>\n",
       "      <td>2</td>\n",
       "      <td>0.0</td>\n",
       "    </tr>\n",
       "    <tr>\n",
       "      <th>4</th>\n",
       "      <td>4</td>\n",
       "      <td>67</td>\n",
       "      <td>56</td>\n",
       "      <td>1315</td>\n",
       "      <td>3</td>\n",
       "      <td>8</td>\n",
       "      <td>68.0</td>\n",
       "      <td>75.0</td>\n",
       "      <td>10.0</td>\n",
       "      <td>11.0</td>\n",
       "      <td>0.0</td>\n",
       "      <td>No-Event</td>\n",
       "      <td>0</td>\n",
       "      <td>1.0</td>\n",
       "    </tr>\n",
       "  </tbody>\n",
       "</table>\n",
       "</div>"
      ],
      "text/plain": [
       "   Unnamed: 0  station_id  new_id  time_of_day  day_of_week  month_of_year  \\\n",
       "0           0          67      56         1215            3              8   \n",
       "1           1          67      56         1230            3              8   \n",
       "2           2          67      56         1245            3              8   \n",
       "3           3          67      56         1300            3              8   \n",
       "4           4          67      56         1315            3              8   \n",
       "\n",
       "   mean_temperature_f  mean_humidity  mean_visibility_miles  \\\n",
       "0                68.0           75.0                   10.0   \n",
       "1                68.0           75.0                   10.0   \n",
       "2                68.0           75.0                   10.0   \n",
       "3                68.0           75.0                   10.0   \n",
       "4                68.0           75.0                   10.0   \n",
       "\n",
       "   mean_wind_speed_mph  precipitation_inches    events  bikes_available  \\\n",
       "0                 11.0                   0.0  No-Event                1   \n",
       "1                 11.0                   0.0  No-Event                0   \n",
       "2                 11.0                   0.0  No-Event                1   \n",
       "3                 11.0                   0.0  No-Event                2   \n",
       "4                 11.0                   0.0  No-Event                0   \n",
       "\n",
       "   bikes_available_future  \n",
       "0                     0.0  \n",
       "1                     1.0  \n",
       "2                     2.0  \n",
       "3                     0.0  \n",
       "4                     1.0  "
      ]
     },
     "metadata": {},
     "output_type": "display_data"
    },
    {
     "name": "stdout",
     "output_type": "stream",
     "text": [
      "This table has 69732 data points and 14 columns.\n"
     ]
    }
   ],
   "source": [
    "# read integrated data for new_id = 56\n",
    "new_id = 56\n",
    "df = pd.read_csv(\"../data/integrated_data_station_\" + str(new_id) + \".csv\")\n",
    "\n",
    "# display the data\n",
    "display(df.head())\n",
    "\n",
    "# show the number of rows and columns\n",
    "print(\"This table has {npnts} data points and {col} columns.\".format(npnts=df.shape[0], col=df.shape[1]))"
   ]
  },
  {
   "cell_type": "markdown",
   "metadata": {},
   "source": [
    "### Encode Categorical Features"
   ]
  },
  {
   "cell_type": "code",
   "execution_count": 4,
   "metadata": {},
   "outputs": [
    {
     "data": {
      "text/html": [
       "<div>\n",
       "<style>\n",
       "    .dataframe thead tr:only-child th {\n",
       "        text-align: right;\n",
       "    }\n",
       "\n",
       "    .dataframe thead th {\n",
       "        text-align: left;\n",
       "    }\n",
       "\n",
       "    .dataframe tbody tr th {\n",
       "        vertical-align: top;\n",
       "    }\n",
       "</style>\n",
       "<table border=\"1\" class=\"dataframe\">\n",
       "  <thead>\n",
       "    <tr style=\"text-align: right;\">\n",
       "      <th></th>\n",
       "      <th>Unnamed: 0</th>\n",
       "      <th>day_of_week</th>\n",
       "      <th>month_of_year</th>\n",
       "      <th>mean_temperature_f</th>\n",
       "      <th>mean_humidity</th>\n",
       "      <th>mean_visibility_miles</th>\n",
       "      <th>mean_wind_speed_mph</th>\n",
       "      <th>precipitation_inches</th>\n",
       "      <th>bikes_available</th>\n",
       "      <th>time_of_day_0</th>\n",
       "      <th>...</th>\n",
       "      <th>time_of_day_2245</th>\n",
       "      <th>time_of_day_2300</th>\n",
       "      <th>time_of_day_2315</th>\n",
       "      <th>time_of_day_2330</th>\n",
       "      <th>time_of_day_2345</th>\n",
       "      <th>events_Fog</th>\n",
       "      <th>events_Fog-Rain</th>\n",
       "      <th>events_No-Event</th>\n",
       "      <th>events_Rain</th>\n",
       "      <th>events_Rain-Thunderstorm</th>\n",
       "    </tr>\n",
       "  </thead>\n",
       "  <tbody>\n",
       "    <tr>\n",
       "      <th>0</th>\n",
       "      <td>0</td>\n",
       "      <td>3</td>\n",
       "      <td>8</td>\n",
       "      <td>68.0</td>\n",
       "      <td>75.0</td>\n",
       "      <td>10.0</td>\n",
       "      <td>11.0</td>\n",
       "      <td>0.0</td>\n",
       "      <td>1</td>\n",
       "      <td>0</td>\n",
       "      <td>...</td>\n",
       "      <td>0</td>\n",
       "      <td>0</td>\n",
       "      <td>0</td>\n",
       "      <td>0</td>\n",
       "      <td>0</td>\n",
       "      <td>0</td>\n",
       "      <td>0</td>\n",
       "      <td>1</td>\n",
       "      <td>0</td>\n",
       "      <td>0</td>\n",
       "    </tr>\n",
       "    <tr>\n",
       "      <th>1</th>\n",
       "      <td>1</td>\n",
       "      <td>3</td>\n",
       "      <td>8</td>\n",
       "      <td>68.0</td>\n",
       "      <td>75.0</td>\n",
       "      <td>10.0</td>\n",
       "      <td>11.0</td>\n",
       "      <td>0.0</td>\n",
       "      <td>0</td>\n",
       "      <td>0</td>\n",
       "      <td>...</td>\n",
       "      <td>0</td>\n",
       "      <td>0</td>\n",
       "      <td>0</td>\n",
       "      <td>0</td>\n",
       "      <td>0</td>\n",
       "      <td>0</td>\n",
       "      <td>0</td>\n",
       "      <td>1</td>\n",
       "      <td>0</td>\n",
       "      <td>0</td>\n",
       "    </tr>\n",
       "    <tr>\n",
       "      <th>2</th>\n",
       "      <td>2</td>\n",
       "      <td>3</td>\n",
       "      <td>8</td>\n",
       "      <td>68.0</td>\n",
       "      <td>75.0</td>\n",
       "      <td>10.0</td>\n",
       "      <td>11.0</td>\n",
       "      <td>0.0</td>\n",
       "      <td>1</td>\n",
       "      <td>0</td>\n",
       "      <td>...</td>\n",
       "      <td>0</td>\n",
       "      <td>0</td>\n",
       "      <td>0</td>\n",
       "      <td>0</td>\n",
       "      <td>0</td>\n",
       "      <td>0</td>\n",
       "      <td>0</td>\n",
       "      <td>1</td>\n",
       "      <td>0</td>\n",
       "      <td>0</td>\n",
       "    </tr>\n",
       "    <tr>\n",
       "      <th>3</th>\n",
       "      <td>3</td>\n",
       "      <td>3</td>\n",
       "      <td>8</td>\n",
       "      <td>68.0</td>\n",
       "      <td>75.0</td>\n",
       "      <td>10.0</td>\n",
       "      <td>11.0</td>\n",
       "      <td>0.0</td>\n",
       "      <td>2</td>\n",
       "      <td>0</td>\n",
       "      <td>...</td>\n",
       "      <td>0</td>\n",
       "      <td>0</td>\n",
       "      <td>0</td>\n",
       "      <td>0</td>\n",
       "      <td>0</td>\n",
       "      <td>0</td>\n",
       "      <td>0</td>\n",
       "      <td>1</td>\n",
       "      <td>0</td>\n",
       "      <td>0</td>\n",
       "    </tr>\n",
       "    <tr>\n",
       "      <th>4</th>\n",
       "      <td>4</td>\n",
       "      <td>3</td>\n",
       "      <td>8</td>\n",
       "      <td>68.0</td>\n",
       "      <td>75.0</td>\n",
       "      <td>10.0</td>\n",
       "      <td>11.0</td>\n",
       "      <td>0.0</td>\n",
       "      <td>0</td>\n",
       "      <td>0</td>\n",
       "      <td>...</td>\n",
       "      <td>0</td>\n",
       "      <td>0</td>\n",
       "      <td>0</td>\n",
       "      <td>0</td>\n",
       "      <td>0</td>\n",
       "      <td>0</td>\n",
       "      <td>0</td>\n",
       "      <td>1</td>\n",
       "      <td>0</td>\n",
       "      <td>0</td>\n",
       "    </tr>\n",
       "  </tbody>\n",
       "</table>\n",
       "<p>5 rows × 110 columns</p>\n",
       "</div>"
      ],
      "text/plain": [
       "   Unnamed: 0  day_of_week  month_of_year  mean_temperature_f  mean_humidity  \\\n",
       "0           0            3              8                68.0           75.0   \n",
       "1           1            3              8                68.0           75.0   \n",
       "2           2            3              8                68.0           75.0   \n",
       "3           3            3              8                68.0           75.0   \n",
       "4           4            3              8                68.0           75.0   \n",
       "\n",
       "   mean_visibility_miles  mean_wind_speed_mph  precipitation_inches  \\\n",
       "0                   10.0                 11.0                   0.0   \n",
       "1                   10.0                 11.0                   0.0   \n",
       "2                   10.0                 11.0                   0.0   \n",
       "3                   10.0                 11.0                   0.0   \n",
       "4                   10.0                 11.0                   0.0   \n",
       "\n",
       "   bikes_available  time_of_day_0            ...             time_of_day_2245  \\\n",
       "0                1              0            ...                            0   \n",
       "1                0              0            ...                            0   \n",
       "2                1              0            ...                            0   \n",
       "3                2              0            ...                            0   \n",
       "4                0              0            ...                            0   \n",
       "\n",
       "   time_of_day_2300  time_of_day_2315  time_of_day_2330  time_of_day_2345  \\\n",
       "0                 0                 0                 0                 0   \n",
       "1                 0                 0                 0                 0   \n",
       "2                 0                 0                 0                 0   \n",
       "3                 0                 0                 0                 0   \n",
       "4                 0                 0                 0                 0   \n",
       "\n",
       "   events_Fog  events_Fog-Rain  events_No-Event  events_Rain  \\\n",
       "0           0                0                1            0   \n",
       "1           0                0                1            0   \n",
       "2           0                0                1            0   \n",
       "3           0                0                1            0   \n",
       "4           0                0                1            0   \n",
       "\n",
       "   events_Rain-Thunderstorm  \n",
       "0                         0  \n",
       "1                         0  \n",
       "2                         0  \n",
       "3                         0  \n",
       "4                         0  \n",
       "\n",
       "[5 rows x 110 columns]"
      ]
     },
     "metadata": {},
     "output_type": "display_data"
    },
    {
     "name": "stdout",
     "output_type": "stream",
     "text": [
      "After one-hot-encoding, the number of predictors become 110.\n"
     ]
    }
   ],
   "source": [
    "# create predictors and target dataframes\n",
    "predictors = df.drop([\"station_id\", \"new_id\", \"bikes_available_future\"], axis=1)\n",
    "target = df[['bikes_available_future']]\n",
    "\n",
    "# change data types of time_of_day and events into categorical\n",
    "predictors.loc[:, \"time_of_day\"] = predictors.time_of_day.astype(\"category\")\n",
    "predictors.loc[:, \"events\"] = predictors.events.astype(\"category\")\n",
    "\n",
    "# One-hot encode the categorical features\n",
    "predictors = pd.get_dummies(predictors)\n",
    "\n",
    "# display the predictors\n",
    "display(predictors.head())\n",
    "\n",
    "# show the number of rows and columns in predictors dataframe after one-hot-encoding\n",
    "print(\"After one-hot-encoding, the number of predictors become {col}.\".format(col=predictors.shape[1]))"
   ]
  },
  {
   "cell_type": "markdown",
   "metadata": {},
   "source": [
    "### Shuffle and Split the Data"
   ]
  },
  {
   "cell_type": "code",
   "execution_count": 5,
   "metadata": {},
   "outputs": [
    {
     "name": "stdout",
     "output_type": "stream",
     "text": [
      "Training set has 55785 samples.\n",
      "Testing set has 13947 samples.\n"
     ]
    }
   ],
   "source": [
    "from sklearn.model_selection import train_test_split\n",
    "\n",
    "# split the data into training and testing sets\n",
    "X_train, X_test, y_train, y_test = train_test_split(predictors, target, test_size=0.2, random_state=100)\n",
    "\n",
    "# convert column vector y into a 1d array to avoid some warning messages later\n",
    "y_train = np.ravel(y_train)\n",
    "y_test = np.ravel(y_test)\n",
    "\n",
    "# Show the results of the split\n",
    "print \"Training set has {} samples.\".format(X_train.shape[0])\n",
    "print \"Testing set has {} samples.\".format(X_test.shape[0])"
   ]
  },
  {
   "cell_type": "markdown",
   "metadata": {},
   "source": [
    "## Build Models"
   ]
  },
  {
   "cell_type": "markdown",
   "metadata": {},
   "source": [
    "### Baseline Model"
   ]
  },
  {
   "cell_type": "code",
   "execution_count": 6,
   "metadata": {
    "collapsed": true
   },
   "outputs": [],
   "source": [
    "# Calculate MAE and MSE of a baseline model, which takes currently available bikes as\n",
    "# future available bikes and\n",
    "baseline_prediction_MAE_train = np.mean(np.abs(y_train - X_train.bikes_available))\n",
    "baseline_prediction_MAE_test = np.mean(np.abs(y_test - X_test.bikes_available))\n",
    "baseline_prediction_MSE_train = np.square(np.abs(y_train - X_train.bikes_available)).mean()\n",
    "baseline_prediction_MSE_test = np.square(np.abs(y_test - X_test.bikes_available)).mean()\n",
    "baseline_error_dict = {\"baseline_prediction_MAE_train\":baseline_prediction_MAE_train,\n",
    "                       \"baseline_prediction_MAE_test\":baseline_prediction_MAE_test,\n",
    "                       \"baseline_prediction_MSE_train\":baseline_prediction_MSE_train,\n",
    "                       \"baseline_prediction_MSE_test\":baseline_prediction_MSE_test}"
   ]
  },
  {
   "cell_type": "code",
   "execution_count": 7,
   "metadata": {},
   "outputs": [
    {
     "data": {
      "text/plain": [
       "0.45221194522119451"
      ]
     },
     "execution_count": 7,
     "metadata": {},
     "output_type": "execute_result"
    }
   ],
   "source": [
    "baseline_prediction_MAE_test"
   ]
  },
  {
   "cell_type": "markdown",
   "metadata": {},
   "source": [
    "### Creating a Training and Predicting Pipeline"
   ]
  },
  {
   "cell_type": "code",
   "execution_count": 8,
   "metadata": {
    "collapsed": true
   },
   "outputs": [],
   "source": [
    "# use mean absolute error as model eveluation metrix\n",
    "from sklearn.metrics import mean_absolute_error, mean_squared_error\n",
    "\n",
    "def train_predict(learner, sample_size, X_train, y_train, X_test, y_test): \n",
    "    \"\"\"\n",
    "    Parameters\n",
    "    ----------\n",
    "    learner :  \n",
    "        the learning algorithm to be trained and predicted on\n",
    "    sample_size : int\n",
    "        the size of samples (number) to be drawn from training set\n",
    "    X_train : Pandas.DataFrame \n",
    "        predictors in training set\n",
    "    y_train : Pandas.DataFrame\n",
    "        response in training set\n",
    "    X_test : Pandas.DataFrame\n",
    "        predictors in testing set\n",
    "    y_test : Pandas.DataFrame\n",
    "        response in testing set\n",
    "        \n",
    "    Returns\n",
    "    -------\n",
    "    dict\n",
    "        a dictionalry object that holdes various results related to model eveluation \n",
    "    \"\"\"\n",
    "    \n",
    "    from time import time\n",
    "    \n",
    "    results = {}\n",
    "    \n",
    "    # fit the learner to the training data using slicing with 'sample_size'\n",
    "    X_train_sample = X_train[:sample_size]\n",
    "    y_train_sample = y_train[:sample_size]\n",
    "    start = time() # Get start time\n",
    "    learner = learner.fit(X_train_sample, y_train_sample)\n",
    "    end = time() # Get end time\n",
    "    \n",
    "    # calculate the training time\n",
    "    results['train_time'] = end - start\n",
    "        \n",
    "    # get the predictions on the test set,\n",
    "    # then get predictions on the training set\n",
    "    start = time() # Get start time\n",
    "    predictions_test = learner.predict(X_test)\n",
    "    predictions_train = learner.predict(X_train_sample)\n",
    "    end = time() # Get end time\n",
    "    \n",
    "    # calculate the total prediction time\n",
    "    results['pred_time'] = end-start\n",
    "            \n",
    "    # compute mean_absolute_error on the training and testing sets\n",
    "    results['mean_absolute_error_train'] = mean_absolute_error(predictions_train, y_train_sample)\n",
    "    results['mean_absolute_error_test'] = mean_absolute_error(predictions_test, y_test)\n",
    "\n",
    "    # compute mean_squared_error on the training and testing sets\n",
    "    results['mean_squared_error_train'] = mean_squared_error(predictions_train, y_train_sample)\n",
    "    results['mean_squared_error_test'] = mean_squared_error(predictions_test, y_test)\n",
    "       \n",
    "    # some info messages\n",
    "    print \"{} trained on {} samples.\".format(learner.__class__.__name__, sample_size)\n",
    "        \n",
    "    # return the results\n",
    "    return results"
   ]
  },
  {
   "cell_type": "markdown",
   "metadata": {},
   "source": [
    "### Initial Model Eveluation"
   ]
  },
  {
   "cell_type": "code",
   "execution_count": 9,
   "metadata": {},
   "outputs": [
    {
     "name": "stdout",
     "output_type": "stream",
     "text": [
      "LinearRegression trained on 557 samples.\n",
      "LinearRegression trained on 5578 samples.\n",
      "LinearRegression trained on 55785 samples.\n",
      "GradientBoostingRegressor trained on 557 samples.\n",
      "GradientBoostingRegressor trained on 5578 samples.\n",
      "GradientBoostingRegressor trained on 55785 samples.\n",
      "RandomForestRegressor trained on 557 samples.\n",
      "RandomForestRegressor trained on 5578 samples.\n",
      "RandomForestRegressor trained on 55785 samples.\n"
     ]
    },
    {
     "data": {
      "image/png": "[encoded data removed]",
      "text/plain": [
       "<matplotlib.figure.Figure at 0x7f23180fb110>"
      ]
     },
     "metadata": {},
     "output_type": "display_data"
    }
   ],
   "source": [
    "from sklearn.linear_model import LinearRegression\n",
    "from sklearn.ensemble import GradientBoostingRegressor\n",
    "from sklearn.ensemble import RandomForestRegressor\n",
    "\n",
    "# Initialize the three models\n",
    "# build a linear regression\n",
    "clf_LR = LinearRegression(n_jobs=6)\n",
    "\n",
    "# build a Decision Tree model\n",
    "clf_GB = GradientBoostingRegressor(loss=\"ls\", learning_rate=0.1, n_estimators=100,random_state=100)\n",
    "\n",
    "# build a Random Forest model\n",
    "clf_RF = RandomForestRegressor(n_estimators=50, n_jobs=6, random_state=100)\n",
    "\n",
    "# calculate the number of samples for 1%, 10%, and 100% of the training data\n",
    "samples_1 = int(0.01 * len(X_train))\n",
    "samples_10 = int(0.1 * len(X_train))\n",
    "samples_100 = len(X_train)\n",
    "\n",
    "# collect results on the learners\n",
    "results = {}\n",
    "for clf in [clf_LR, clf_GB, clf_RF]:\n",
    "    clf_name = clf.__class__.__name__\n",
    "    results[clf_name] = {}\n",
    "    for i, samples in enumerate([samples_1, samples_10, samples_100]):\n",
    "        results[clf_name][i] = \\\n",
    "        train_predict(clf, samples, X_train, y_train, X_test, y_test)\n",
    "        \n",
    "# Run metrics visualization for the three supervised learning models chosen\n",
    "#benchmard_mean_absolute_error = 0.37\n",
    "#vs.evaluate(results, benchmard_mean_absolute_error)\n",
    "vs.evaluate(results, baseline_error_dict)"
   ]
  },
  {
   "cell_type": "code",
   "execution_count": null,
   "metadata": {
    "collapsed": true
   },
   "outputs": [],
   "source": [
    "#results[clf_DT.__class__.__name__]\n",
    "#results"
   ]
  },
  {
   "cell_type": "markdown",
   "metadata": {},
   "source": [
    "## Improving Results"
   ]
  },
  {
   "cell_type": "markdown",
   "metadata": {},
   "source": [
    "### Choosing the Best Model"
   ]
  },
  {
   "cell_type": "markdown",
   "metadata": {},
   "source": [
    "### Model Tuning"
   ]
  },
  {
   "cell_type": "code",
   "execution_count": 14,
   "metadata": {},
   "outputs": [
    {
     "name": "stdout",
     "output_type": "stream",
     "text": [
      "Unoptimized model\n",
      "------\n",
      "Mean absolute error on testing data: 0.5813\n",
      "Mean squared error on testing data: 1.2726\n",
      "\n",
      "Optimized Model\n",
      "------\n",
      "Final mean absolute error on the testing data: 0.6060\n",
      "Final mean squared error on the testing data: 1.3414\n",
      "\n",
      "Optimized Model parameters\n",
      "------\n",
      "Best parameters found by GridSearchCV:\n",
      "{'n_estimators': 10}\n"
     ]
    }
   ],
   "source": [
    "from sklearn.model_selection import GridSearchCV\n",
    "from sklearn.metrics import make_scorer\n",
    "from sklearn.ensemble import RandomForestRegressor\n",
    "\n",
    "# Initialize RF Regressor\n",
    "clf = RandomForestRegressor(n_estimators=50, random_state=100)\n",
    "\n",
    "# the parameters list to be tuned\n",
    "parameters = {\"n_estimators\" : np.arange(10,200, 10)}\n",
    "\n",
    "# make a mean_absolute_error scoring object\n",
    "scorer = make_scorer(mean_absolute_error)\n",
    "\n",
    "# Perform grid search on the RF Regressor using 'scorer' as the scoring method\n",
    "grid_obj = GridSearchCV(clf, parameters, scoring=scorer, n_jobs=4, cv=5)\n",
    "\n",
    "# Fit the grid search object to the training data and find the optimal parameters\n",
    "grid_fit = grid_obj.fit(X_train, y_train)\n",
    "\n",
    "# Get the estimator\n",
    "best_clf = grid_fit.best_estimator_\n",
    "\n",
    "# Make predictions using the unoptimized model\n",
    "predictions = (clf.fit(X_train, y_train)).predict(X_test)\n",
    "best_predictions = best_clf.predict(X_test)\n",
    "\n",
    "# Report the before-and-afterscores\n",
    "print \"Unoptimized model\\n------\"\n",
    "print \"Mean absolute error on testing data: {:.4f}\".format(mean_absolute_error(y_test, predictions))\n",
    "print \"Mean squared error on testing data: {:.4f}\".format(mean_squared_error(y_test, predictions))\n",
    "print \"\\nOptimized Model\\n------\"\n",
    "print \"Final mean absolute error on the testing data: {:.4f}\".format(mean_absolute_error(y_test, best_predictions))\n",
    "print \"Final mean squared error on the testing data: {:.4f}\".format(mean_squared_error(y_test, best_predictions))\n",
    "\n",
    "# Report the parameters of the best model\n",
    "print \"\\nOptimized Model parameters\\n------\"\n",
    "print \"Best parameters found by GridSearchCV:\"\n",
    "print grid_fit.best_params_"
   ]
  },
  {
   "cell_type": "code",
   "execution_count": 15,
   "metadata": {},
   "outputs": [
    {
     "name": "stdout",
     "output_type": "stream",
     "text": [
      "\n",
      "Feature ranking:\n",
      "1. Unnamed: 0 (0.959329%)\n",
      "2. day_of_week (0.006811%)\n",
      "3. month_of_year (0.004207%)\n",
      "4. mean_temperature_f (0.004148%)\n",
      "5. mean_humidity (0.003416%)\n",
      "6. mean_visibility_miles (0.003098%)\n",
      "7. mean_wind_speed_mph (0.002796%)\n",
      "8. precipitation_inches (0.001118%)\n",
      "9. bikes_available (0.000936%)\n",
      "10. time_of_day_0 (0.000426%)\n",
      "11. time_of_day_15 (0.000413%)\n",
      "12. time_of_day_30 (0.000393%)\n",
      "13. time_of_day_45 (0.000390%)\n",
      "14. time_of_day_100 (0.000335%)\n",
      "15. time_of_day_115 (0.000332%)\n",
      "16. time_of_day_130 (0.000332%)\n",
      "17. time_of_day_145 (0.000323%)\n",
      "18. time_of_day_200 (0.000318%)\n",
      "19. time_of_day_215 (0.000317%)\n",
      "20. time_of_day_230 (0.000313%)\n"
     ]
    }
   ],
   "source": [
    "# Rank the features in Descending order\n",
    "importances = best_clf.feature_importances_\n",
    "indices = np.argsort(importances)[::-1]\n",
    "importances = importances[indices]\n",
    "\n",
    "# Print the top 20 feature ranking\n",
    "print(\"\\nFeature ranking:\")\n",
    "\n",
    "for f in range(20):\n",
    "    print(\"%d. %s (%f%%)\" % (f + 1, X_train.columns[f], importances[f]))"
   ]
  }
 ],
 "metadata": {
  "kernelspec": {
   "display_name": "Python [default]",
   "language": "python",
   "name": "python2"
  },
  "language_info": {
   "codemirror_mode": {
    "name": "ipython",
    "version": 2
   },
   "file_extension": ".py",
   "mimetype": "text/x-python",
   "name": "python",
   "nbconvert_exporter": "python",
   "pygments_lexer": "ipython2",
   "version": "2.7.13"
  }
 },
 "nbformat": 4,
 "nbformat_minor": 2
}
